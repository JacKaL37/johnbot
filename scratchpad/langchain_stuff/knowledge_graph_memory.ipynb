{
 "cells": [
  {
   "cell_type": "markdown",
   "id": "44c9933a",
   "metadata": {},
   "source": [
    "# Conversation Knowledge Graph\n",
    "\n",
    "This type of memory uses a knowledge graph to recreate memory.\n"
   ]
  },
  {
   "cell_type": "code",
   "execution_count": 1,
   "outputs": [
    {
     "name": "stdout",
     "output_type": "stream",
     "text": [
      "\u001B[33mWARNING: You are using pip version 21.1.1; however, version 23.2.1 is available.\r\n",
      "You should consider upgrading via the '/usr/local/bin/python3.9 -m pip install --upgrade pip' command.\u001B[0m\r\n",
      "Note: you may need to restart the kernel to use updated packages.\n",
      "\u001B[33mWARNING: You are using pip version 21.1.1; however, version 23.2.1 is available.\r\n",
      "You should consider upgrading via the '/usr/local/bin/python3.9 -m pip install --upgrade pip' command.\u001B[0m\r\n",
      "Note: you may need to restart the kernel to use updated packages.\n",
      "\u001B[33mWARNING: You are using pip version 21.1.1; however, version 23.2.1 is available.\r\n",
      "You should consider upgrading via the '/usr/local/bin/python3.9 -m pip install --upgrade pip' command.\u001B[0m\r\n",
      "Note: you may need to restart the kernel to use updated packages.\n",
      "\u001B[33mWARNING: You are using pip version 21.1.1; however, version 23.2.1 is available.\r\n",
      "You should consider upgrading via the '/usr/local/bin/python3.9 -m pip install --upgrade pip' command.\u001B[0m\r\n",
      "Note: you may need to restart the kernel to use updated packages.\n"
     ]
    }
   ],
   "source": [
    "%pip install langchain --quiet\n",
    "%pip install openai --quiet\n",
    "%pip install python-dotenv --quiet\n",
    "%pip install networkx --quiet\n"
   ],
   "metadata": {
    "collapsed": false,
    "ExecuteTime": {
     "end_time": "2023-09-27T22:50:31.200959Z",
     "start_time": "2023-09-27T22:50:21.038033Z"
    }
   }
  },
  {
   "cell_type": "markdown",
   "id": "0c798006-ca04-4de3-83eb-cf167fb2bd01",
   "metadata": {},
   "source": [
    "## Using memory with LLM"
   ]
  },
  {
   "cell_type": "code",
   "execution_count": 1,
   "id": "f71f40ba",
   "metadata": {
    "ExecuteTime": {
     "end_time": "2023-09-27T22:55:29.156387Z",
     "start_time": "2023-09-27T22:55:26.103770Z"
    }
   },
   "outputs": [],
   "source": [
    "from langchain.memory import ConversationKGMemory\n",
    "from langchain.llms import OpenAI\n",
    "from dotenv import load_dotenv\n",
    "load_dotenv()\n",
    "\n",
    "LANGCHAIN_PROJECT=\"knowledge_graph_test\""
   ]
  },
  {
   "cell_type": "code",
   "execution_count": 2,
   "id": "2f4a3c85",
   "metadata": {
    "ExecuteTime": {
     "end_time": "2023-09-27T22:55:35.586839Z",
     "start_time": "2023-09-27T22:55:33.938213Z"
    }
   },
   "outputs": [],
   "source": [
    "llm = OpenAI(temperature=0)\n",
    "memory = ConversationKGMemory(llm=llm)\n",
    "memory.save_context({\"input\": \"say hi to sam\"}, {\"output\": \"who is sam\"})\n",
    "memory.save_context({\"input\": \"sam is a friend\"}, {\"output\": \"okay\"})"
   ]
  },
  {
   "cell_type": "code",
   "execution_count": 3,
   "id": "72283b4f",
   "metadata": {
    "ExecuteTime": {
     "end_time": "2023-09-27T22:55:36.498941Z",
     "start_time": "2023-09-27T22:55:36.219540Z"
    }
   },
   "outputs": [
    {
     "data": {
      "text/plain": "{'history': 'On Sam: Sam is friend.'}"
     },
     "execution_count": 3,
     "metadata": {},
     "output_type": "execute_result"
    }
   ],
   "source": [
    "memory.load_memory_variables({\"input\": \"who is sam\"})"
   ]
  },
  {
   "cell_type": "markdown",
   "id": "0c8ff11e",
   "metadata": {},
   "source": [
    "We can also get the history as a list of messages (this is useful if you are using this with a chat model)."
   ]
  },
  {
   "cell_type": "code",
   "execution_count": 4,
   "id": "44df43af",
   "metadata": {
    "ExecuteTime": {
     "end_time": "2023-09-27T22:55:42.435780Z",
     "start_time": "2023-09-27T22:55:41.660978Z"
    }
   },
   "outputs": [],
   "source": [
    "memory = ConversationKGMemory(llm=llm, return_messages=True)\n",
    "memory.save_context({\"input\": \"say hi to sam\"}, {\"output\": \"who is sam\"})\n",
    "memory.save_context({\"input\": \"sam is a friend\"}, {\"output\": \"okay\"})"
   ]
  },
  {
   "cell_type": "code",
   "execution_count": 5,
   "id": "4726b1c8",
   "metadata": {
    "ExecuteTime": {
     "end_time": "2023-09-27T22:55:43.641244Z",
     "start_time": "2023-09-27T22:55:43.395864Z"
    }
   },
   "outputs": [
    {
     "data": {
      "text/plain": "{'history': [SystemMessage(content='On Sam: Sam is friend.', additional_kwargs={})]}"
     },
     "execution_count": 5,
     "metadata": {},
     "output_type": "execute_result"
    }
   ],
   "source": [
    "memory.load_memory_variables({\"input\": \"who is sam\"})"
   ]
  },
  {
   "cell_type": "markdown",
   "id": "dc956b0e",
   "metadata": {},
   "source": [
    "We can also more modularly get current entities from a new message (will use previous messages as context)."
   ]
  },
  {
   "cell_type": "code",
   "execution_count": 6,
   "id": "36331ca5",
   "metadata": {
    "ExecuteTime": {
     "end_time": "2023-09-27T22:55:45.676679Z",
     "start_time": "2023-09-27T22:55:45.422992Z"
    }
   },
   "outputs": [
    {
     "data": {
      "text/plain": "['Sam']"
     },
     "execution_count": 6,
     "metadata": {},
     "output_type": "execute_result"
    }
   ],
   "source": [
    "memory.get_current_entities(\"what's Sams favorite color?\")"
   ]
  },
  {
   "cell_type": "markdown",
   "id": "e8749134",
   "metadata": {},
   "source": [
    "We can also more modularly get knowledge triplets from a new message (will use previous messages as context)."
   ]
  },
  {
   "cell_type": "code",
   "execution_count": 7,
   "id": "b02d44db",
   "metadata": {
    "ExecuteTime": {
     "end_time": "2023-09-27T22:55:47.346103Z",
     "start_time": "2023-09-27T22:55:46.822712Z"
    }
   },
   "outputs": [
    {
     "data": {
      "text/plain": "[KnowledgeTriple(subject='Sam', predicate='has', object_='favorite color'),\n KnowledgeTriple(subject='Sam', predicate='favorite color is', object_='red')]"
     },
     "execution_count": 7,
     "metadata": {},
     "output_type": "execute_result"
    }
   ],
   "source": [
    "memory.get_knowledge_triplets(\"her favorite color is red\")"
   ]
  },
  {
   "cell_type": "markdown",
   "id": "f7a02ef3",
   "metadata": {},
   "source": [
    "## Using in a chain\n",
    "\n",
    "Let's now use this in a chain!"
   ]
  },
  {
   "cell_type": "code",
   "execution_count": 8,
   "id": "b462baf1",
   "metadata": {
    "ExecuteTime": {
     "end_time": "2023-09-27T22:55:48.755708Z",
     "start_time": "2023-09-27T22:55:48.742388Z"
    }
   },
   "outputs": [],
   "source": [
    "llm = OpenAI(temperature=0)\n",
    "from langchain.prompts.prompt import PromptTemplate\n",
    "from langchain.chains import ConversationChain\n",
    "\n",
    "template = \"\"\"The following is a friendly conversation between a human and an AI. The AI is talkative and provides lots of specific details from its context. \n",
    "If the AI does not know the answer to a question, it truthfully says it does not know. The AI ONLY uses information contained in the \"Relevant Information\" section and does not hallucinate.\n",
    "\n",
    "Relevant Information:\n",
    "\n",
    "{history}\n",
    "\n",
    "Conversation:\n",
    "Human: {input}\n",
    "AI:\"\"\"\n",
    "prompt = PromptT1emplate(input_variables=[\"history\", \"input\"], template=template)\n",
    "conversation_with_kg = ConversationChain(\n",
    "    llm=llm, verbose=True, prompt=prompt, memory=ConversationKGMemory(llm=llm)\n",
    ")"
   ]
  },
  {
   "cell_type": "code",
   "execution_count": 9,
   "id": "97efaf38",
   "metadata": {
    "ExecuteTime": {
     "end_time": "2023-09-27T22:55:52.027456Z",
     "start_time": "2023-09-27T22:55:50.328037Z"
    }
   },
   "outputs": [
    {
     "name": "stdout",
     "output_type": "stream",
     "text": [
      "\n",
      "\n",
      "\u001B[1m> Entering new ConversationChain chain...\u001B[0m\n",
      "Prompt after formatting:\n",
      "\u001B[32;1m\u001B[1;3mThe following is a friendly conversation between a human and an AI. The AI is talkative and provides lots of specific details from its context. \n",
      "If the AI does not know the answer to a question, it truthfully says it does not know. The AI ONLY uses information contained in the \"Relevant Information\" section and does not hallucinate.\n",
      "\n",
      "Relevant Information:\n",
      "\n",
      "\n",
      "\n",
      "Conversation:\n",
      "Human: Hi, what's up?\n",
      "AI:\u001B[0m\n",
      "\n",
      "\u001B[1m> Finished chain.\u001B[0m\n"
     ]
    },
    {
     "data": {
      "text/plain": "\" Hi there! I'm doing great. I'm currently in the process of learning about the world around me. I'm learning about different cultures, languages, and customs. It's really fascinating! How about you?\""
     },
     "execution_count": 9,
     "metadata": {},
     "output_type": "execute_result"
    }
   ],
   "source": [
    "conversation_with_kg.predict(input=\"Hi, what's up?\")"
   ]
  },
  {
   "cell_type": "code",
   "execution_count": 11,
   "id": "55b5bcad",
   "metadata": {
    "ExecuteTime": {
     "end_time": "2023-09-27T22:51:55.647353Z",
     "start_time": "2023-09-27T22:51:53.896449Z"
    }
   },
   "outputs": [
    {
     "name": "stdout",
     "output_type": "stream",
     "text": [
      "\n",
      "\n",
      "\u001B[1m> Entering new ConversationChain chain...\u001B[0m\n",
      "Prompt after formatting:\n",
      "\u001B[32;1m\u001B[1;3mThe following is a friendly conversation between a human and an AI. The AI is talkative and provides lots of specific details from its context. \n",
      "If the AI does not know the answer to a question, it truthfully says it does not know. The AI ONLY uses information contained in the \"Relevant Information\" section and does not hallucinate.\n",
      "\n",
      "Relevant Information:\n",
      "\n",
      "\n",
      "\n",
      "Conversation:\n",
      "Human: My name is James and I'm helping Will. He's an engineer.\n",
      "AI:\u001B[0m\n",
      "\n",
      "\u001B[1m> Finished chain.\u001B[0m\n"
     ]
    },
    {
     "data": {
      "text/plain": "\" Hi James, it's nice to meet you. I'm an AI and I understand you're helping Will, the engineer. What kind of engineering does he do?\""
     },
     "execution_count": 11,
     "metadata": {},
     "output_type": "execute_result"
    }
   ],
   "source": [
    "conversation_with_kg.predict(\n",
    "    input=\"My name is James and I'm helping Will. He's an engineer.\"\n",
    ")"
   ]
  },
  {
   "cell_type": "code",
   "execution_count": 12,
   "id": "9981e219",
   "metadata": {
    "ExecuteTime": {
     "end_time": "2023-09-27T22:52:05.467527Z",
     "start_time": "2023-09-27T22:52:04.334156Z"
    }
   },
   "outputs": [
    {
     "name": "stdout",
     "output_type": "stream",
     "text": [
      "\n",
      "\n",
      "\u001B[1m> Entering new ConversationChain chain...\u001B[0m\n",
      "Prompt after formatting:\n",
      "\u001B[32;1m\u001B[1;3mThe following is a friendly conversation between a human and an AI. The AI is talkative and provides lots of specific details from its context. \n",
      "If the AI does not know the answer to a question, it truthfully says it does not know. The AI ONLY uses information contained in the \"Relevant Information\" section and does not hallucinate.\n",
      "\n",
      "Relevant Information:\n",
      "\n",
      "On Will: Will is an engineer.\n",
      "\n",
      "Conversation:\n",
      "Human: What do you know about Will?\n",
      "AI:\u001B[0m\n",
      "\n",
      "\u001B[1m> Finished chain.\u001B[0m\n"
     ]
    },
    {
     "data": {
      "text/plain": "' Will is an engineer.'"
     },
     "execution_count": 12,
     "metadata": {},
     "output_type": "execute_result"
    }
   ],
   "source": [
    "conversation_with_kg.predict(input=\"What do you know about Will?\")"
   ]
  },
  {
   "cell_type": "code",
   "execution_count": null,
   "id": "8c09a239",
   "metadata": {},
   "outputs": [],
   "source": []
  }
 ],
 "metadata": {
  "kernelspec": {
   "display_name": "Python 3 (ipykernel)",
   "language": "python",
   "name": "python3"
  },
  "language_info": {
   "codemirror_mode": {
    "name": "ipython",
    "version": 3
   },
   "file_extension": ".py",
   "mimetype": "text/x-python",
   "name": "python",
   "nbconvert_exporter": "python",
   "pygments_lexer": "ipython3",
   "version": "3.10.12"
  }
 },
 "nbformat": 4,
 "nbformat_minor": 5
}
